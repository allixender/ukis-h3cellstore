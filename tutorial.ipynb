{
 "cells": [
  {
   "cell_type": "markdown",
   "id": "27d95621",
   "metadata": {},
   "source": [
    "# Bamboo_H3 Tutorial"
   ]
  },
  {
   "cell_type": "markdown",
   "id": "7d282c40",
   "metadata": {},
   "source": [
    "This tutorial is based on Ubuntu 18.04."
   ]
  },
  {
   "cell_type": "markdown",
   "id": "51af8355",
   "metadata": {},
   "source": [
    "## Prerequisites"
   ]
  },
  {
   "cell_type": "markdown",
   "id": "7c09847c",
   "metadata": {},
   "source": [
    "### Install PostgresQL / PostGIS"
   ]
  },
  {
   "cell_type": "markdown",
   "id": "699f3e99",
   "metadata": {},
   "source": [
    "```\n",
    "sudo apt install postgresql postgresql-contrib\n",
    "sudo apt install postgresql-10-postgis-2.4\n",
    "```"
   ]
  },
  {
   "cell_type": "markdown",
   "id": "4fb95613",
   "metadata": {},
   "source": [
    "### Set up a PostGIS-enabled database "
   ]
  },
  {
   "cell_type": "markdown",
   "id": "1ad79f29",
   "metadata": {},
   "source": [
    "```BASH\n",
    "sudo -u postgres createdb h3out\n",
    "sudo -u postgres psql -d h3out\n",
    "```"
   ]
  },
  {
   "cell_type": "markdown",
   "id": "b5dbf318",
   "metadata": {},
   "source": [
    "### Enable PostGIS and set user privileges"
   ]
  },
  {
   "cell_type": "markdown",
   "id": "00563b16",
   "metadata": {},
   "source": [
    "```SQL\n",
    "CREATE EXTENSION postgis;\n",
    "CREATE USER <user_name> WITH PASSWORD '<password>';\n",
    "GRANT ALL PRIVILEGES ON DATABASE h3out to <user_name>;\n",
    "\\q\n",
    "```"
   ]
  },
  {
   "cell_type": "markdown",
   "id": "a31bf40a",
   "metadata": {},
   "source": [
    "### Open SSH tunnel"
   ]
  },
  {
   "cell_type": "markdown",
   "id": "f770f205",
   "metadata": {},
   "source": [
    "Use a separate terminal to execute the following command:"
   ]
  },
  {
   "cell_type": "markdown",
   "id": "9e210b4c",
   "metadata": {},
   "source": [
    "```BASH\n",
    "ssh $USER@torvalds.eoc.dlr.de \\\n",
    "  -L 9010:localhost:9010 \\\n",
    "  -L 5433:localhost:5432\n",
    "```"
   ]
  },
  {
   "cell_type": "markdown",
   "id": "b1e20eb8",
   "metadata": {},
   "source": [
    "### Install Anaconda"
   ]
  },
  {
   "cell_type": "markdown",
   "id": "59466505",
   "metadata": {},
   "source": [
    "```BASH\n",
    "wget https://repo.anaconda.com/archive/Anaconda3-2020.11-Linux-x86_64.sh\n",
    "bash Anaconda3-2020.11-Linux-x86_64.sh\n",
    "```"
   ]
  },
  {
   "cell_type": "markdown",
   "id": "f5e4de01",
   "metadata": {},
   "source": [
    "### Setup conda environment"
   ]
  },
  {
   "cell_type": "markdown",
   "id": "a7a97c2d",
   "metadata": {},
   "source": [
    "```BASH\n",
    "conda create -n py38dev python=3.8\n",
    "conda activate py38dev\n",
    "\n",
    "pip install psycopg2\n",
    "pip install -i https://eoc-gzs-db01-vm.eoc.dlr.de:8080/repository/py-all/simple bamboo_h3\n",
    "pip install -i https://eoc-gzs-db01-vm.eoc.dlr.de:8080/repository/py-all/simple h3ronpy>=0.7.1\n",
    "```"
   ]
  },
  {
   "cell_type": "markdown",
   "id": "25709300",
   "metadata": {},
   "source": [
    "## Run example_processor.py"
   ]
  },
  {
   "cell_type": "markdown",
   "id": "ca3760c0",
   "metadata": {},
   "source": [
    "Make sure to copy the file to a custom location, so that the imports do not refer to local directories."
   ]
  },
  {
   "cell_type": "code",
   "execution_count": 17,
   "id": "f22566ed",
   "metadata": {},
   "outputs": [],
   "source": [
    "import json\n",
    "import time\n",
    "from datetime import datetime\n",
    "\n",
    "import h3.api.numpy_int as h3\n",
    "import bamboo_h3\n",
    "import h3ronpy\n",
    "import pandas as pd\n",
    "import psycopg2\n",
    "import shapely.wkb\n",
    "from bamboo_h3.concurrent import process_polygon\n",
    "from bamboo_h3.postgres import fetch_using_intersecting_h3indexes\n",
    "from shapely.geometry import shape, Polygon\n",
    "\n",
    "#..."
   ]
  },
  {
   "cell_type": "markdown",
   "id": "799742b8",
   "metadata": {},
   "source": [
    "## Check results"
   ]
  },
  {
   "cell_type": "markdown",
   "id": "8cf795de",
   "metadata": {},
   "source": [
    "### Connect to DB"
   ]
  },
  {
   "cell_type": "markdown",
   "id": "685b1192",
   "metadata": {},
   "source": [
    "```BASH\n",
    "sudo -i -u postgres\n",
    "psql -d h3out -U <user_name>\n",
    "```"
   ]
  },
  {
   "cell_type": "markdown",
   "id": "eebdb3be",
   "metadata": {},
   "source": [
    "### Query the first item of the results"
   ]
  },
  {
   "cell_type": "markdown",
   "id": "be11bf83",
   "metadata": {},
   "source": [
    "```SQL\n",
    "\\dt\n",
    "SELECT * FROM water_out LIMIT 1;\n",
    "```"
   ]
  },
  {
   "cell_type": "code",
   "execution_count": null,
   "id": "ffbc67b6",
   "metadata": {},
   "outputs": [],
   "source": []
  }
 ],
 "metadata": {
  "kernelspec": {
   "display_name": "Python 3",
   "language": "python",
   "name": "python3"
  },
  "language_info": {
   "codemirror_mode": {
    "name": "ipython",
    "version": 3
   },
   "file_extension": ".py",
   "mimetype": "text/x-python",
   "name": "python",
   "nbconvert_exporter": "python",
   "pygments_lexer": "ipython3",
   "version": "3.8.8"
  }
 },
 "nbformat": 4,
 "nbformat_minor": 5
}
